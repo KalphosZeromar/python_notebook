{
  "cells": [
    {
      "metadata": {
        "collapsed": true
      },
      "cell_type": "markdown",
      "source": [
        "#  Module 2 Project  \n",
        "Course 40460: Introduction to Python, Unit 1  \n",
        "\n",
        "The activity is based on Modules 1 and 2 and is similar to the Jupyter Notebook for Module 2 practice, which you may have completed.\n",
        "\n",
        "| Some Assignment Requirements |  \n",
        "|:-------------------------------|  \n",
        "| **NOTE:** This program requires that a **function** be defined, created and called. The call will send values based on user input.  The function call must capture a `return` value that is used in print output.  The function will have parameters and `return` a string and should otherwise use code syntax covered in Module 2.  |  \n",
        " \n",
        "## Program: fishstore()\n",
        "Create and test fishstore().\n",
        "- **fishstore() takes 2 string arguments: fish & price**\n",
        "- **fishstore returns a string in sentence form**  \n",
        "- **Gather input for fish_entry and price_entry to use in calling fishstore()**\n",
        "- **Print the return value of fishstore()**\n",
        ">Example of output: **`Fish Type: Guppy costs $1`**"
      ]
    },
    {
      "metadata": {
        "trusted": false,
        "tags": []
      },
      "cell_type": "code",
      "source": [
        "# [ ] create, call and test fishstore() function \n",
        "#variables (initialising variables)\n",
        "#string\n",
        "fish = \"null\"\n",
        "fish_entry = \"null\"\n",
        "#double\n",
        "price = 0\n",
        "price_entry = 0\n",
        "\n",
        "#functions\n",
        "def fishstore():\n",
        "    fish_entry = input(\"Please enter the name of the fish to enter: \")\n",
        "    price_entry = input(\"Please enter the price of the fish: \")\n",
        "    output_string = (\"Fish Type: \"+fish_entry+\" costs £\"+price_entry)\n",
        "    return output_string\n",
        "#main code\n",
        "print(fishstore())"
      ],
      "execution_count": 10,
      "outputs": [
        {
          "output_type": "stream",
          "name": "stdout",
          "text": "Fish Type: asd costs £213\n"
        }
      ]
    },
    {
      "metadata": {},
      "cell_type": "markdown",
      "source": [
        "[Terms of use](http://go.microsoft.com/fwlink/?LinkID=206977) &nbsp; [Privacy & cookies](https://go.microsoft.com/fwlink/?LinkId=521839) &nbsp; © 2017 Microsoft"
      ]
    },
    {
      "metadata": {
        "trusted": true
      },
      "cell_type": "code",
      "source": [],
      "execution_count": null,
      "outputs": []
    }
  ],
  "metadata": {
    "anaconda-cloud": {},
    "kernelspec": {
      "name": "python_defaultSpec_1601454109257",
      "display_name": "Python 3.7.5 64-bit",
      "language": "python"
    },
    "language_info": {
      "mimetype": "text/x-python",
      "nbconvert_exporter": "python",
      "name": "python",
      "pygments_lexer": "ipython3",
      "version": "3.7.5-final",
      "file_extension": ".py",
      "codemirror_mode": {
        "version": 3,
        "name": "ipython"
      }
    }
  },
  "nbformat": 4,
  "nbformat_minor": 1
}
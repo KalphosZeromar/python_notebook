{
  "cells": [
    {
      "metadata": {},
      "cell_type": "markdown",
      "source": [
        "# Section 3.2\n",
        "# Range Iteration\n",
        "- for in: `for` loop using `in`\n",
        "- **for range: `for range(start,stop,step)`**\n",
        "- More list methods: `.extend()`, `+, .reverse(), .sort()` \n",
        "- Strings to lists,`.split()`, and list to strings, `.join()` \n",
        "----- \n",
        "\n",
        "### Student will be able to\n",
        "- Iterate through lists using `for` with `in`\n",
        "- **Use `for range()` in looping operations**\n",
        "- Use list methods `.extend()`, `+, .reverse(), .sort()` \n",
        "- Convert between lists and strings using `.split()` and `.join()` "
      ]
    },
    {
      "metadata": {},
      "cell_type": "markdown",
      "source": [
        "## Concept: `range(stop)`\n",
        "[![view video](https://iajupyterprodblobs.blob.core.windows.net/imagecontainer/common/play_video.png)](http://edxinteractivepage.blob.core.windows.net/edxpages/f7cff1a7-5601-48a1-95a6-fd1fdfabd20e.html?details=[{\"src\":\"http://jupyternootbookwams.streaming.mediaservices.windows.net/bda2424d-4f25-4c0a-a77a-06384f3da8f2/Unit2_Section3.2a_range_stop.ism/manifest\",\"type\":\"application/vnd.ms-sstr+xml\"}],[{\"src\":\"http://jupyternootbookwams.streaming.mediaservices.windows.net/bda2424d-4f25-4c0a-a77a-06384f3da8f2/Unit2_Section3.2a_range_stop.vtt\",\"srclang\":\"en\",\"kind\":\"subtitles\",\"label\":\"english\"}])\n",
        "### The range(*stop*) function creates a sequence  \n",
        "Using 1 argument with range(*stop*):\n",
        "- Default start: 0\n",
        "- stop: stopping integer, does not process stop number\n",
        "```python\n",
        "for count in range(10):\n",
        "  print(count)\n",
        "```\n",
        "### Same as\n",
        "```python\n",
        "for count in [0, 1, 2, 3, 4, 5, 6, 7, 8, 9]:\n",
        "  print(count)\n",
        "```\n"
      ]
    },
    {
      "metadata": {},
      "cell_type": "markdown",
      "source": [
        "### Examples: Range runs from `0` through the integer before `stop`"
      ]
    },
    {
      "metadata": {
        "trusted": true
      },
      "cell_type": "code",
      "source": [
        "# [ ] review and run example\n",
        "for count in range(10):\n",
        "  print(count)"
      ],
      "execution_count": 4,
      "outputs": [
        {
          "output_type": "stream",
          "text": "0\n1\n2\n3\n4\n5\n6\n7\n8\n9\n",
          "name": "stdout"
        }
      ]
    },
    {
      "metadata": {
        "trusted": false
      },
      "cell_type": "code",
      "source": [
        "# review and run example\n",
        "digits = range(10)\n",
        "print(\"digits =\", list(digits), \"\\n\")\n",
        "\n",
        "for count in digits:\n",
        "    print(count)"
      ],
      "execution_count": null,
      "outputs": []
    },
    {
      "metadata": {
        "trusted": false
      },
      "cell_type": "code",
      "source": [
        "# [ ] review and run example\n",
        "sub_total = 0\n",
        "for item in range(10):\n",
        "    sub_total += item\n",
        "    print(\"sub_total:\", sub_total)\n",
        "print(\"Total =\", sub_total)"
      ],
      "execution_count": null,
      "outputs": []
    },
    {
      "metadata": {
        "trusted": false
      },
      "cell_type": "code",
      "source": [
        "# [ ] review and run example\n",
        "# print the first half of a spelling list\n",
        "spell_list = [\"Tuesday\", \"Wednesday\", \"February\", \"November\", \"Annual\", \"Calendar\", \"Solstice\"]\n",
        "\n",
        "# find length of 1st half of list (must be int)\n",
        "half_1 = int(len(spell_list)/2)\n",
        "\n",
        "for word in range(half_1):\n",
        "    print(spell_list[word])"
      ],
      "execution_count": null,
      "outputs": []
    },
    {
      "metadata": {
        "collapsed": true
      },
      "cell_type": "markdown",
      "source": [
        "## Task 1: `range(stop)`"
      ]
    },
    {
      "metadata": {
        "trusted": true
      },
      "cell_type": "code",
      "source": [
        "# [ ] for x = 6, use range(x) to print the numbers 1 through 6\n",
        "x = 6\n",
        "for n in range(x):\n",
        "    print(n+1)\n"
      ],
      "execution_count": 1,
      "outputs": [
        {
          "output_type": "stream",
          "text": "1\n2\n3\n4\n5\n6\n",
          "name": "stdout"
        }
      ]
    },
    {
      "metadata": {
        "trusted": true
      },
      "cell_type": "code",
      "source": [
        "# [ ] using range(x) multiply the numbers 1 through 7\n",
        "# 1x2x3x4x5x6x7 = 5040\n",
        "x = 6\n",
        "total = 1\n",
        "for n in range (x):\n",
        "    total = total * (n+2)\n",
        "print(total)"
      ],
      "execution_count": 3,
      "outputs": [
        {
          "output_type": "stream",
          "text": "5040\n",
          "name": "stdout"
        }
      ]
    },
    {
      "metadata": {},
      "cell_type": "markdown",
      "source": [
        "Use **`range(stop)`** to print the second half of spell_list below"
      ]
    },
    {
      "metadata": {
        "trusted": true
      },
      "cell_type": "code",
      "source": [
        "# [ ] print the second half of a spelling list using a range(stop) loop to iterate the list\n",
        "spell_list = [\"Wednesday\", \"Tuesday\", \"February\", \"November\", \"Annual\", \"Calendar\", \"Solstice\"]\n",
        "half_point = int(len(spell_list)/2)\n",
        "for n in range(half_point):\n",
        "    print(spell_list[n+half_point+1])"
      ],
      "execution_count": 14,
      "outputs": [
        {
          "output_type": "stream",
          "text": "Annual\nCalendar\nSolstice\n",
          "name": "stdout"
        }
      ]
    },
    {
      "metadata": {},
      "cell_type": "markdown",
      "source": [
        "## Concept: `range(start,stop)`\n",
        "[![view video](https://iajupyterprodblobs.blob.core.windows.net/imagecontainer/common/play_video.png)](http://edxinteractivepage.blob.core.windows.net/edxpages/f7cff1a7-5601-48a1-95a6-fd1fdfabd20e.html?details=[{\"src\":\"http://jupyternootbookwams.streaming.mediaservices.windows.net/95d6c75a-ed37-4f50-9049-2a2c225f9499/Unit2_Section3.2b_range_start_stop.ism/manifest\",\"type\":\"application/vnd.ms-sstr+xml\"}],[{\"src\":\"http://jupyternootbookwams.streaming.mediaservices.windows.net/95d6c75a-ed37-4f50-9049-2a2c225f9499/Unit2_Section3.2b_range_start_stop.vtt\",\"srclang\":\"en\",\"kind\":\"subtitles\",\"label\":\"english\"}])\n",
        "### The range(*start,stop*) function creates a sequence\n",
        "Using 2 arguments with range(*start,stop*):\n",
        "- start: starting integer value of a range loop\n",
        "- stop: stopping integer (second argument), does not process stop number \n",
        "```python\n",
        "for count in range(5,10):\n",
        "  print(count)\n",
        "```\n"
      ]
    },
    {
      "metadata": {},
      "cell_type": "markdown",
      "source": [
        "### Examples: Range runs from `start` integer through the integer before `stop`"
      ]
    },
    {
      "metadata": {
        "trusted": false
      },
      "cell_type": "code",
      "source": [
        "# [ ] review and run example\n",
        "for count in range(5,10):\n",
        "  print(count)"
      ],
      "execution_count": null,
      "outputs": []
    },
    {
      "metadata": {
        "trusted": false
      },
      "cell_type": "code",
      "source": [
        "# [ ] review and run example\n",
        "sub_total = 0\n",
        "temp = 0\n",
        "for item in range(5, 11):\n",
        "    temp = sub_total\n",
        "    sub_total += item\n",
        "    print(\"sub_total:\", temp, \"+\", item, \"=\",sub_total)\n",
        "print(\"Total =\", sub_total)"
      ],
      "execution_count": null,
      "outputs": []
    },
    {
      "metadata": {
        "trusted": false
      },
      "cell_type": "code",
      "source": [
        "# [ ] review and run example\n",
        "\n",
        "spell_list = [\"Tuesday\", \"Wednesday\", \"February\", \"November\", \"Annual\", \"Calendar\", \"Solstice\"]\n",
        "\n",
        "# find length list \n",
        "spell_len = len(spell_list)\n",
        "# find lenght of 1st half (aka - start of 2nd half)\n",
        "half_1 = int(spell_len/2)\n",
        "\n",
        "# print 2nd half list\n",
        "for word in range(half_1,spell_len):\n",
        "    print(spell_list[word])"
      ],
      "execution_count": null,
      "outputs": []
    },
    {
      "metadata": {
        "collapsed": true
      },
      "cell_type": "markdown",
      "source": [
        "## Task 2: `range(start,stop)`"
      ]
    },
    {
      "metadata": {
        "trusted": true
      },
      "cell_type": "code",
      "source": [
        "# [ ] using range(start,stop), .append() the numbers 5 to 15 to the list: five_fifteen\n",
        "# [ ] print list five_fifteen\n",
        "five_fifteen = []\n",
        "for n in range (5,16):\n",
        "    five_fifteen.append(n)\n",
        "print(five_fifteen)"
      ],
      "execution_count": 16,
      "outputs": [
        {
          "output_type": "stream",
          "text": "[5, 6, 7, 8, 9, 10, 11, 12, 13, 14, 15]\n",
          "name": "stdout"
        }
      ]
    },
    {
      "metadata": {
        "trusted": true
      },
      "cell_type": "code",
      "source": [
        "# [ ] using range(start,stop) - print the 3rd, 4th and 5th words in spell_list\n",
        "# output should include \"February\", \"November\", \"Annual\"\n",
        "spell_list = [\"Tuesday\", \"Wednesday\", \"February\", \"November\", \"Annual\", \"Calendar\", \"Solstice\"]\n",
        "for n in range (3,6):\n",
        "    print(spell_list[n])"
      ],
      "execution_count": 18,
      "outputs": [
        {
          "output_type": "stream",
          "text": "November\nAnnual\nCalendar\n",
          "name": "stdout"
        }
      ]
    },
    {
      "metadata": {
        "trusted": false
      },
      "cell_type": "code",
      "source": [
        "# [ ] using code find the index of \"Annual\" in spell_list\n",
        "# [ ] using range, print the spell_list including \"Annual\" to end of list\n",
        "spell_list = [\"Tuesday\", \"Wednesday\", \"February\", \"November\", \"Annual\", \"Calendar\", \"Solstice\"]\n",
        "n = 0\n",
        "for day in spell_list:\n",
        "    if day == \"Annual\":\n",
        "        "
      ],
      "execution_count": null,
      "outputs": []
    },
    {
      "metadata": {},
      "cell_type": "markdown",
      "source": [
        "## Concept: `range(start,stop,step)`\n",
        "[![view video](https://iajupyterprodblobs.blob.core.windows.net/imagecontainer/common/play_video.png)](http://edxinteractivepage.blob.core.windows.net/edxpages/f7cff1a7-5601-48a1-95a6-fd1fdfabd20e.html?details=[{\"src\":\"http://jupyternootbookwams.streaming.mediaservices.windows.net/4299f0e2-3dc2-4298-aff1-e2a0b013de6a/Unit2_Section3.2c_range_start_stop_step.ism/manifest\",\"type\":\"application/vnd.ms-sstr+xml\"}],[{\"src\":\"http://jupyternootbookwams.streaming.mediaservices.windows.net/4299f0e2-3dc2-4298-aff1-e2a0b013de6a/Unit2_Section3.2c_range_start_stop_step.vtt\",\"srclang\":\"en\",\"kind\":\"subtitles\",\"label\":\"english\"}])\n",
        "### The range(*start,stop,step*) function creates a sequence\n",
        "Using 3 arguments with range(*start,stop,step*):\n",
        "- start: starting integer value of a range loop\n",
        "- stop: stopping integer (second argument), does not process stop number \n",
        "- step: skip value for each loop\n",
        "```python\n",
        "for count in range(10,101,10):\n",
        "  print(count)\n",
        "```\n"
      ]
    },
    {
      "metadata": {},
      "cell_type": "markdown",
      "source": [
        "### Examples: Range runs from `start` integer, skipping by `step`, through the largest `step` integer before reaching `stop`"
      ]
    },
    {
      "metadata": {
        "trusted": false
      },
      "cell_type": "code",
      "source": [
        "# [ ] review and run example\n",
        "for count in range(25,101,25):\n",
        "  print(count)"
      ],
      "execution_count": null,
      "outputs": []
    },
    {
      "metadata": {
        "trusted": false
      },
      "cell_type": "code",
      "source": [
        "# [ ] review and run example\n",
        "sub_total = 0\n",
        "temp = 0\n",
        "for item in range(25,46,5):\n",
        "    temp = sub_total\n",
        "    sub_total += item\n",
        "    print(\"sub_total:\", temp, \"+\", item, \"=\",sub_total)\n",
        "print(\"Total =\", sub_total)"
      ],
      "execution_count": null,
      "outputs": []
    },
    {
      "metadata": {
        "trusted": false
      },
      "cell_type": "code",
      "source": [
        "# [ ] review and run example printing the 1st and then every other word in spell_list\n",
        "spell_list = [\"Tuesday\", \"Wednesday\", \"February\", \"November\", \"Annual\", \"Calendar\", \"Solstice\"]\n",
        "\n",
        "for index in range(0,len(spell_list),2):\n",
        "    print(spell_list[index])"
      ],
      "execution_count": null,
      "outputs": []
    },
    {
      "metadata": {
        "trusted": false
      },
      "cell_type": "code",
      "source": [
        "# [ ] review and run example casting range to list\n",
        "odd_list = list(range(1,20,2))\n",
        "print(odd_list)"
      ],
      "execution_count": null,
      "outputs": []
    },
    {
      "metadata": {
        "collapsed": true
      },
      "cell_type": "markdown",
      "source": [
        "## Task 3: `range(start,stop,step)`"
      ]
    },
    {
      "metadata": {
        "trusted": false
      },
      "cell_type": "code",
      "source": [
        "# [ ] print numbers 10 to 20 by 2's using range\n",
        "test_list = list(range(10,21,2))\n",
        "print(test_list)\n",
        "\n"
      ],
      "execution_count": 5,
      "outputs": [
        {
          "output_type": "stream",
          "name": "stdout",
          "text": [
            "[10, 12, 14, 16, 18, 20]\n"
          ]
        }
      ]
    },
    {
      "metadata": {
        "trusted": false
      },
      "cell_type": "code",
      "source": [
        "# [ ] print numbers 20 to 10 using range (need to countdown)\n",
        "# Hint: start at 20\n",
        "test_list = list(range(20,9,-1))\n",
        "print(test_list)"
      ],
      "execution_count": 7,
      "outputs": [
        {
          "output_type": "stream",
          "name": "stdout",
          "text": [
            "[20, 19, 18, 17, 16, 15, 14, 13, 12, 11, 10]\n"
          ]
        }
      ]
    },
    {
      "metadata": {
        "trusted": false
      },
      "cell_type": "code",
      "source": [
        "# [ ] print first and every third word in spell_list\n",
        "spell_list = [\"Tuesday\", \"Wednesday\", \"February\", \"November\", \"Annual\", \"Calendar\", \"Solstice\"]\n"
      ],
      "execution_count": null,
      "outputs": []
    },
    {
      "metadata": {
        "collapsed": true
      },
      "cell_type": "markdown",
      "source": [
        "## Task 4 (program): List of letters \n",
        "- Input a word string (**word**)\n",
        "- Find the string length of word \n",
        "- **use range()** to iterate through each letter in word (can use to range loops)\n",
        "- Save odd and even letters from the word as lists\n",
        "  - **odd_letters**: starting at index 0,2,...\n",
        "  - **even_letters**: starting at index 1,3,...\n",
        "- Print odd and even lists"
      ]
    },
    {
      "metadata": {
        "trusted": false
      },
      "cell_type": "code",
      "source": [
        "# [ ] complete List of letters program- test with the word \"complexity\"\n"
      ],
      "execution_count": null,
      "outputs": []
    },
    {
      "metadata": {},
      "cell_type": "markdown",
      "source": [
        "## Task 5: Fix the error\n"
      ]
    },
    {
      "metadata": {
        "trusted": false
      },
      "cell_type": "code",
      "source": [
        "# [ ] fix the error printing odd numbers 1 - 9\n",
        "for num in range[1,10,2]:\n",
        "    print(num)\n",
        "\n",
        "\n"
      ],
      "execution_count": 8,
      "outputs": [
        {
          "output_type": "error",
          "ename": "TypeError",
          "evalue": "'type' object is not subscriptable",
          "traceback": [
            "\u001b[1;31m---------------------------------------------------------------------------\u001b[0m",
            "\u001b[1;31mTypeError\u001b[0m                                 Traceback (most recent call last)",
            "\u001b[1;32m<ipython-input-8-8d3ddd7f3d8e>\u001b[0m in \u001b[0;36m<module>\u001b[1;34m\u001b[0m\n\u001b[0;32m      1\u001b[0m \u001b[1;31m# [ ] fix the error printing odd numbers 1 - 9\u001b[0m\u001b[1;33m\u001b[0m\u001b[1;33m\u001b[0m\u001b[1;33m\u001b[0m\u001b[0m\n\u001b[1;32m----> 2\u001b[1;33m \u001b[1;32mfor\u001b[0m \u001b[0mnum\u001b[0m \u001b[1;32min\u001b[0m \u001b[0mrange\u001b[0m\u001b[1;33m[\u001b[0m\u001b[1;36m1\u001b[0m\u001b[1;33m,\u001b[0m\u001b[1;36m10\u001b[0m\u001b[1;33m,\u001b[0m\u001b[1;36m2\u001b[0m\u001b[1;33m]\u001b[0m\u001b[1;33m:\u001b[0m\u001b[1;33m\u001b[0m\u001b[1;33m\u001b[0m\u001b[0m\n\u001b[0m\u001b[0;32m      3\u001b[0m     \u001b[0mprint\u001b[0m\u001b[1;33m(\u001b[0m\u001b[0mnum\u001b[0m\u001b[1;33m)\u001b[0m\u001b[1;33m\u001b[0m\u001b[1;33m\u001b[0m\u001b[0m\n\u001b[0;32m      4\u001b[0m \u001b[1;33m\u001b[0m\u001b[0m\n\u001b[0;32m      5\u001b[0m \u001b[1;33m\u001b[0m\u001b[0m\n",
            "\u001b[1;31mTypeError\u001b[0m: 'type' object is not subscriptable"
          ]
        }
      ]
    },
    {
      "metadata": {},
      "cell_type": "markdown",
      "source": [
        "[Terms of use](http://go.microsoft.com/fwlink/?LinkID=206977) &nbsp; [Privacy & cookies](https://go.microsoft.com/fwlink/?LinkId=521839) &nbsp; © 2017 Microsoft"
      ]
    }
  ],
  "metadata": {
    "anaconda-cloud": {},
    "kernelspec": {
      "name": "python3",
      "display_name": "Python 3.7.5 64-bit",
      "metadata": {
        "interpreter": {
          "hash": "57baa5815c940fdaff4d14510622de9616cae602444507ba5d0b6727c008cbd6"
        }
      }
    },
    "language_info": {
      "mimetype": "text/x-python",
      "nbconvert_exporter": "python",
      "name": "python",
      "pygments_lexer": "ipython3",
      "version": "3.7.5-final",
      "file_extension": ".py",
      "codemirror_mode": {
        "version": 3,
        "name": "ipython"
      }
    }
  },
  "nbformat": 4,
  "nbformat_minor": 1
}
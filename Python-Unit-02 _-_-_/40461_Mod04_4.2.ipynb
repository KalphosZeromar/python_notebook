{
  "cells": [
    {
      "metadata": {},
      "cell_type": "markdown",
      "source": "# Section 4.2\n## File .readlines() and .close() Methods\n- File Read as a list with `.readlines()`\n- File Closing to free resources with `.close()`\n\n----- \n\n### Student will be able to\n- Use `.readlines()` to read text from files as a list of lines\n- Use `.close` to free system resources"
    },
    {
      "metadata": {},
      "cell_type": "markdown",
      "source": "## Concept: `.readlines()`\n[![view video](https://iajupyterprodblobs.blob.core.windows.net/imagecontainer/common/play_video.png)]( http://edxinteractivepage.blob.core.windows.net/edxpages/f7cff1a7-5601-48a1-95a6-fd1fdfabd20e.html?details=[{\"src\":\"http://jupyternootbookwams.streaming.mediaservices.windows.net/0cd43d02-5eac-40b5-ba2d-97f078415ddd/Unit2_Section4.2a-Readlines-Open_Text_as_List.ism/manifest\",\"type\":\"application/vnd.ms-sstr+xml\"}],[{\"src\":\"http://jupyternootbookwams.streaming.mediaservices.windows.net/0cd43d02-5eac-40b5-ba2d-97f078415ddd/Unit2_Section4.2a-Readlines-Open_Text_as_List.vtt\",\"srclang\":\"en\",\"kind\":\"subtitles\",\"label\":\"english\"}])\n\n### File read as a list with .readlines() \nConverts the lines of a file into a **list** of strings.\n\n```python\npoem_lines = poem1.readlines()\n```"
    },
    {
      "metadata": {},
      "cell_type": "markdown",
      "source": "### Examples"
    },
    {
      "metadata": {
        "scrolled": false,
        "trusted": false
      },
      "cell_type": "code",
      "source": "# [ ] Run to download file to notebook\n!curl https://raw.githubusercontent.com/MicrosoftLearning/intropython/master/poem1.txt -o poem1.txt",
      "execution_count": null,
      "outputs": []
    },
    {
      "metadata": {
        "trusted": false
      },
      "cell_type": "code",
      "source": "# [ ] review and run example\n# open address to file\npoem1 = open('poem1.txt', 'r')\n\n# readlines and print as a list\npoem_lines = poem1.readlines()\npoem_lines",
      "execution_count": null,
      "outputs": []
    },
    {
      "metadata": {
        "trusted": false
      },
      "cell_type": "code",
      "source": "# [ ] review and run example\nfor line in poem_lines:\n    print(line)",
      "execution_count": null,
      "outputs": []
    },
    {
      "metadata": {
        "collapsed": true
      },
      "cell_type": "markdown",
      "source": "## Task 1: `.readlines()` \n### Open the cities file as a list\n1. **Import a list of cities using curl**  \n  a. Git the list from https://raw.githubusercontent.com/MicrosoftLearning/intropython/master/cities  \n  b. Name the list cities.txt  \n2. **Open cities.txt in read mode using a variable: cities_file**  \n3. **Read cities_file as a list variable: cities_lines using `.readlines()`**\n4. **Print each line of cities_lines by iterating the list**"
    },
    {
      "metadata": {
        "trusted": true
      },
      "cell_type": "code",
      "source": "# [ ] import cities\n!curl https://raw.githubusercontent.com/MicrosoftLearning/intropython/master/cities -o cities.txt",
      "execution_count": 1,
      "outputs": [
        {
          "output_type": "stream",
          "text": "  % Total    % Received % Xferd  Average Speed   Time    Time     Time  Current\n                                 Dload  Upload   Total   Spent    Left  Speed\n100    56  100    56    0     0    113      0 --:--:-- --:--:-- --:--:--   115\n",
          "name": "stdout"
        }
      ]
    },
    {
      "metadata": {
        "trusted": true
      },
      "cell_type": "code",
      "source": "# [ ] open cities.txt as cities_file and read the file as a list: cities_lines\ncities_file = open('cities.txt','r')\ncities_lines = cities_file.readline()",
      "execution_count": 2,
      "outputs": []
    },
    {
      "metadata": {
        "trusted": true
      },
      "cell_type": "code",
      "source": "# [ ] use list iteration to print each city in cities_lines list\nfor n in cities_lines:\n    print(n)",
      "execution_count": 4,
      "outputs": [
        {
          "output_type": "stream",
          "text": "B\ne\ni\nj\ni\nn\ng\n\n\n",
          "name": "stdout"
        }
      ]
    },
    {
      "metadata": {},
      "cell_type": "markdown",
      "source": "## Concept: Working with lists from .readlines()\n[![view video](https://iajupyterprodblobs.blob.core.windows.net/imagecontainer/common/play_video.png)]( http://edxinteractivepage.blob.core.windows.net/edxpages/f7cff1a7-5601-48a1-95a6-fd1fdfabd20e.html?details=[{\"src\":\"http://jupyternootbookwams.streaming.mediaservices.windows.net/ed9b1523-6d69-462c-b18c-01e5423c1e52/Unit2_Section4.2b-Readlines-Remove_Characters.ism/manifest\",\"type\":\"application/vnd.ms-sstr+xml\"}],[{\"src\":\"http://jupyternootbookwams.streaming.mediaservices.windows.net/ed9b1523-6d69-462c-b18c-01e5423c1e52/Unit2_Section4.2b-Readlines-Remove_Characters.vtt\",\"srclang\":\"en\",\"kind\":\"subtitles\",\"label\":\"english\"}])\n###  Remove newline characters from lists created using .readlines()\n```python\nfor line in poem_lines:\n    poem_lines[count] = line[:-1]\n    count += 1\n```\n**`line[:-1]`** sets the end point at the last character of the string, the result is the **`'\\n'`** (newline) character is omitted.\n\n| list item | list item contents | \n|-----|-----|\n| poem_lines[0] | 'Loops I repeat\\n' |  \n| poem_lines[1] | 'loops\\n' |  \n| poem_lines[2] | 'loops\\n' | \n| poem_lines[3] | 'I repeat\\n' | \n|... | ... | "
    },
    {
      "metadata": {},
      "cell_type": "markdown",
      "source": "### Examples\nNote: The examples assume that poem1.txt was imported in the first example above."
    },
    {
      "metadata": {
        "trusted": true
      },
      "cell_type": "code",
      "source": "# [ ] review and run examples\n# [ ] re-open file and read file as a list of strings\npoem1 = open('poem1.txt', 'r')\npoem_lines = poem1.readlines()\nprint(poem_lines)",
      "execution_count": 38,
      "outputs": [
        {
          "output_type": "stream",
          "text": "['Loops I repeat\\n', 'loops\\n', 'loops\\n', 'loops\\n', 'I repeat\\n', 'until I\\n', 'break\\n']\n",
          "name": "stdout"
        }
      ]
    },
    {
      "metadata": {
        "trusted": true
      },
      "cell_type": "code",
      "source": "# [ ] print each list item \nfor line in poem_lines:\n    print(line)",
      "execution_count": 39,
      "outputs": [
        {
          "output_type": "stream",
          "text": "Loops I repeat\n\nloops\n\nloops\n\nloops\n\nI repeat\n\nuntil I\n\nbreak\n\n",
          "name": "stdout"
        }
      ]
    },
    {
      "metadata": {
        "trusted": true
      },
      "cell_type": "code",
      "source": "# [ ] remove the last character of each list item, which is \"\\n\"\ncount = 0\n\nfor line in poem_lines:\n    poem_lines[count] = line[:-1]\n    count += 1\n\nprint(poem_lines)",
      "execution_count": 40,
      "outputs": [
        {
          "output_type": "stream",
          "text": "['Loops I repeat', 'loops', 'loops', 'loops', 'I repeat', 'until I', 'break']\n",
          "name": "stdout"
        }
      ]
    },
    {
      "metadata": {
        "trusted": true
      },
      "cell_type": "code",
      "source": "# [ ] print each list item \nfor line in poem_lines:\n    print(line)",
      "execution_count": 41,
      "outputs": [
        {
          "output_type": "stream",
          "text": "Loops I repeat\nloops\nloops\nloops\nI repeat\nuntil I\nbreak\n",
          "name": "stdout"
        }
      ]
    },
    {
      "metadata": {
        "collapsed": true
      },
      "cell_type": "markdown",
      "source": "## Task 2: Remove newline characters from cities lists created using .readlines()\n- This task assumes that cites.txt has been imported in Task 1 above\n- In Task 1, the cities were printed with a blank line between each city - this task removes the blank lines\n"
    },
    {
      "metadata": {
        "trusted": true
      },
      "cell_type": "code",
      "source": "# [ ] re-open file and read file as a list of strings \n# [ ] open cities.txt as cities_file and read the file as a list: cities_lines\ncities_file = open('cities.txt','r')\ncities_lines = cities_file.readlines()",
      "execution_count": 10,
      "outputs": []
    },
    {
      "metadata": {
        "trusted": true
      },
      "cell_type": "code",
      "source": "# [ ] remove the last character, \"\\n\", of each cities_lines list item \ncount = 0\nfor n in cities_lines:\n    cities_lines[count] = n[:-1]\n    count += 1",
      "execution_count": 11,
      "outputs": []
    },
    {
      "metadata": {
        "trusted": true
      },
      "cell_type": "code",
      "source": "# [ ] print each list item in cities_lines\nfor line in cities_lines:\n    print(line)",
      "execution_count": 12,
      "outputs": [
        {
          "output_type": "stream",
          "text": "Beijing\nCairo\nLondon\nNairobi\nNew York City\nSydney\nTokyo\n",
          "name": "stdout"
        }
      ]
    },
    {
      "metadata": {},
      "cell_type": "markdown",
      "source": "## Concept: `.close()`\n[![view video](https://iajupyterprodblobs.blob.core.windows.net/imagecontainer/common/play_video.png)]( http://edxinteractivepage.blob.core.windows.net/edxpages/f7cff1a7-5601-48a1-95a6-fd1fdfabd20e.html?details=[{\"src\":\"http://jupyternootbookwams.streaming.mediaservices.windows.net/50a925e8-25e2-4bfa-936b-e2d181af36f0/Unit2_Section4.2c-File_Close_Method.ism/manifest\",\"type\":\"application/vnd.ms-sstr+xml\"}],[{\"src\":\"http://jupyternootbookwams.streaming.mediaservices.windows.net/50a925e8-25e2-4bfa-936b-e2d181af36f0/Unit2_Section4.2c-File_Close_Method.vtt\",\"srclang\":\"en\",\"kind\":\"subtitles\",\"label\":\"english\"}])\n### File .close() method frees resources \nThe file.close() method removes the reference created by the file open() function. \n\n```python  \npoem1.close()\n```  "
    },
    {
      "metadata": {},
      "cell_type": "markdown",
      "source": "### Examples  \nNote: The examples assume that poem1.txt was imported in the first example above."
    },
    {
      "metadata": {
        "trusted": false
      },
      "cell_type": "code",
      "source": "# [ ] review and run example: open and readlines of poem1.txt\npoem1 = open('poem1.txt', 'r')",
      "execution_count": null,
      "outputs": []
    },
    {
      "metadata": {
        "trusted": false
      },
      "cell_type": "code",
      "source": "# [ ] review and run example: readlines breaks if file is no longer open\n\npoem_lines = poem1.readlines()\nprint(poem_lines)",
      "execution_count": null,
      "outputs": []
    },
    {
      "metadata": {
        "trusted": false
      },
      "cell_type": "code",
      "source": "# [ ] review and run example: Close poem1\npoem1.close()\n",
      "execution_count": null,
      "outputs": []
    },
    {
      "metadata": {
        "collapsed": true
      },
      "cell_type": "markdown",
      "source": "## Task 3: File .close() \nWrite each item in its own cell.\n- Open cities.txt as cities_file  \n- Read the lines as cities_lines\n- Print the cities that **start with the letter \"D\" or greater**  \n- Close cities_file\n- Test that file is closed"
    },
    {
      "metadata": {
        "trusted": true
      },
      "cell_type": "code",
      "source": "# [ ] open cities.txt as cities_file\ncities_file = open('cities.txt','r')",
      "execution_count": 13,
      "outputs": []
    },
    {
      "metadata": {
        "trusted": true
      },
      "cell_type": "code",
      "source": "# [ ] read the lines as cities_lines\ncities_lines = cities_file.readlines()",
      "execution_count": 14,
      "outputs": []
    },
    {
      "metadata": {
        "trusted": true
      },
      "cell_type": "code",
      "source": "# [ ] print the cities that start with the letter \"D\" or greater\nfor n in cities_lines:\n    if n[0] in ('A','B','C','D'):\n        print(n)",
      "execution_count": 29,
      "outputs": [
        {
          "output_type": "stream",
          "text": "Beijing\n\nCairo\n\n",
          "name": "stdout"
        }
      ]
    },
    {
      "metadata": {
        "trusted": true
      },
      "cell_type": "code",
      "source": "# [ ] test that file is closed\ncities_lines = cities_file.readlines()\nprint(cities_lines)",
      "execution_count": 33,
      "outputs": [
        {
          "output_type": "stream",
          "text": "[]\n",
          "name": "stdout"
        }
      ]
    },
    {
      "metadata": {
        "trusted": true
      },
      "cell_type": "code",
      "source": "# [ ] close cities_file\ncities_file.close",
      "execution_count": 34,
      "outputs": [
        {
          "output_type": "execute_result",
          "execution_count": 34,
          "data": {
            "text/plain": "<function TextIOWrapper.close>"
          },
          "metadata": {}
        }
      ]
    },
    {
      "metadata": {
        "collapsed": true
      },
      "cell_type": "markdown",
      "source": "## Task 4: readlines() poem2  \nWrite each item in its own cell.\n- Import https://raw.githubusercontent.com/MicrosoftLearning/intropython/master/poem2.txt as poem2.txt  \n- Open poem2.txt as poem2_file in read mode\n- Create a list of strings, called poem2_lines, from each line of poem2_text (use **.readlines()**)  \n- Remove the newline character for each list item in poem2_lines  \n- Print the poem2 lines in reverse order  "
    },
    {
      "metadata": {
        "trusted": true
      },
      "cell_type": "code",
      "source": "# [ ] import https://raw.githubusercontent.com/MicrosoftLearning/intropython/master/poem2.txt as poem2.txt\n!curl https://raw.githubusercontent.com/MicrosoftLearning/intropython/master/poem2.txt -o poem2.txt",
      "execution_count": 60,
      "outputs": [
        {
          "output_type": "stream",
          "text": "  % Total    % Received % Xferd  Average Speed   Time    Time     Time  Current\n                                 Dload  Upload   Total   Spent    Left  Speed\n100    57  100    57    0     0    224      0 --:--:-- --:--:-- --:--:--   227\n",
          "name": "stdout"
        }
      ]
    },
    {
      "metadata": {
        "trusted": true
      },
      "cell_type": "code",
      "source": "# [ ] open poem2.txt as poem2_text in read mode\npoem2_text = open('poem2.txt','r')",
      "execution_count": 61,
      "outputs": []
    },
    {
      "metadata": {
        "trusted": true
      },
      "cell_type": "code",
      "source": "# [ ] create a list of strings, called poem2_lines, from each line of poem2_text\npoem2_lines = poem2_text.readlines()\nprint(poem2_lines)",
      "execution_count": 62,
      "outputs": [
        {
          "output_type": "stream",
          "text": "['while True\\n', 'I loop\\n', 'True\\n', 'loop\\n', 'True\\n', 'loop\\n', 'not True\\n', 'False\\n', 'end\\n']\n",
          "name": "stdout"
        }
      ]
    },
    {
      "metadata": {
        "trusted": true
      },
      "cell_type": "code",
      "source": "# [ ] remove the newline character for each list item in poem2_lines\ncount = 0\n\nfor n in poem2_lines:\n    poem2_lines[count] = n[:-1]\n    count += 1\n\nprint(poem2_lines)",
      "execution_count": 63,
      "outputs": [
        {
          "output_type": "stream",
          "text": "['while True', 'I loop', 'True', 'loop', 'True', 'loop', 'not True', 'False', 'end']\n",
          "name": "stdout"
        }
      ]
    },
    {
      "metadata": {
        "trusted": true
      },
      "cell_type": "code",
      "source": "# [ ] print the poem2 lines in reverse order\nfor n in reversed(poem2_lines):\n    print(n)",
      "execution_count": 65,
      "outputs": [
        {
          "output_type": "stream",
          "text": "end\nFalse\nnot True\nloop\nTrue\nloop\nTrue\nI loop\nwhile True\n",
          "name": "stdout"
        }
      ]
    },
    {
      "metadata": {},
      "cell_type": "markdown",
      "source": "[Terms of use](http://go.microsoft.com/fwlink/?LinkID=206977) &nbsp; [Privacy & cookies](https://go.microsoft.com/fwlink/?LinkId=521839) &nbsp; © 2017 Microsoft"
    }
  ],
  "metadata": {
    "anaconda-cloud": {},
    "kernelspec": {
      "name": "python3",
      "display_name": "Python 3",
      "language": "python"
    },
    "language_info": {
      "mimetype": "text/x-python",
      "nbconvert_exporter": "python",
      "name": "python",
      "pygments_lexer": "ipython3",
      "version": "3.5.4",
      "file_extension": ".py",
      "codemirror_mode": {
        "version": 3,
        "name": "ipython"
      }
    }
  },
  "nbformat": 4,
  "nbformat_minor": 1
}
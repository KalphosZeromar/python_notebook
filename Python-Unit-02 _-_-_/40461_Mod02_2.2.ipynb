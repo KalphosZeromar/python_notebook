{
  "cells": [
    {
      "metadata": {},
      "cell_type": "markdown",
      "source": "# Section 2.2\n## List Append\n- List Creation\n- List Access\n- **List Append**\n- List Insert\n- List Delete\n\n----- \n\n### Student will be able to\n- Create lists\n- Access items in a list\n- **Add items to the end of a list**\n- Modify and insert items into a list\n- Delete items from a list\n"
    },
    {
      "metadata": {},
      "cell_type": "markdown",
      "source": "## Concept: Appending to Lists\n[![view video](https://iajupyterprodblobs.blob.core.windows.net/imagecontainer/common/play_video.png)]( http://edxinteractivepage.blob.core.windows.net/edxpages/f7cff1a7-5601-48a1-95a6-fd1fdfabd20e.html?details=[{\"src\":\"http://jupyternootbookwams.streaming.mediaservices.windows.net/121939c6-f81e-4787-a7a9-15ab15c69168/Unit2_Section2.2a-Appending_to_Lists.ism/manifest\",\"type\":\"application/vnd.ms-sstr+xml\"}],[{\"src\":\"http://jupyternootbookwams.streaming.mediaservices.windows.net/121939c6-f81e-4787-a7a9-15ab15c69168/Unit2_Section2.2a-Appending_to_Lists.vtt\",\"srclang\":\"en\",\"kind\":\"subtitles\",\"label\":\"english\"}])\n**`.append()`** method adds an item to the end of a list   \n```python\nparty_list.append(\"Alton\")\n```"
    },
    {
      "metadata": {},
      "cell_type": "markdown",
      "source": "### Examples"
    },
    {
      "metadata": {
        "trusted": true
      },
      "cell_type": "code",
      "source": "# [ ] review and run example\n# the list before append\nsample_list = [1, 1, 2]\nprint(\"sample_list before: \", sample_list)\n\nsample_list.append(3)\n# the list after append\nprint(\"sample_list after:  \", sample_list)",
      "execution_count": 7,
      "outputs": [
        {
          "output_type": "stream",
          "text": "sample_list before:  [1, 1, 2]\nsample_list after:   [1, 1, 2, 3]\n",
          "name": "stdout"
        }
      ]
    },
    {
      "metadata": {
        "trusted": true
      },
      "cell_type": "code",
      "source": "# [ ] review and run example\n# append number to sample_list\nprint(\"sample_list start:  \", sample_list)\nsample_list.append(3)\nprint(\"sample_list added:  \", sample_list)\n\n# append again\nsample_list.append(8)\nprint(\"sample_list added:  \", sample_list)\n\n# append again\nsample_list.append(5)\nprint(\"sample_list added:  \", sample_list)\n\n# [ ] run this cell several times in a row \n# [ ] run cell above, then run this cell again",
      "execution_count": 6,
      "outputs": [
        {
          "output_type": "error",
          "ename": "NameError",
          "evalue": "name 'sample_list' is not defined",
          "traceback": [
            "\u001b[0;31m---------------------------------------------------------------------------\u001b[0m",
            "\u001b[0;31mNameError\u001b[0m                                 Traceback (most recent call last)",
            "\u001b[0;32m<ipython-input-6-13f0a9bb5885>\u001b[0m in \u001b[0;36m<module>\u001b[0;34m()\u001b[0m\n\u001b[1;32m      1\u001b[0m \u001b[0;31m# [ ] review and run example\u001b[0m\u001b[0;34m\u001b[0m\u001b[0;34m\u001b[0m\u001b[0m\n\u001b[1;32m      2\u001b[0m \u001b[0;31m# append number to sample_list\u001b[0m\u001b[0;34m\u001b[0m\u001b[0;34m\u001b[0m\u001b[0m\n\u001b[0;32m----> 3\u001b[0;31m \u001b[0mprint\u001b[0m\u001b[0;34m(\u001b[0m\u001b[0;34m\"sample_list start:  \"\u001b[0m\u001b[0;34m,\u001b[0m \u001b[0msample_list\u001b[0m\u001b[0;34m)\u001b[0m\u001b[0;34m\u001b[0m\u001b[0m\n\u001b[0m\u001b[1;32m      4\u001b[0m \u001b[0msample_list\u001b[0m\u001b[0;34m.\u001b[0m\u001b[0mappend\u001b[0m\u001b[0;34m(\u001b[0m\u001b[0;36m3\u001b[0m\u001b[0;34m)\u001b[0m\u001b[0;34m\u001b[0m\u001b[0m\n\u001b[1;32m      5\u001b[0m \u001b[0mprint\u001b[0m\u001b[0;34m(\u001b[0m\u001b[0;34m\"sample_list added:  \"\u001b[0m\u001b[0;34m,\u001b[0m \u001b[0msample_list\u001b[0m\u001b[0;34m)\u001b[0m\u001b[0;34m\u001b[0m\u001b[0m\n",
            "\u001b[0;31mNameError\u001b[0m: name 'sample_list' is not defined"
          ]
        }
      ]
    },
    {
      "metadata": {
        "trusted": false
      },
      "cell_type": "code",
      "source": "# [ ] review and run example\nmixed_types = [1, \"cat\"]\n# append number\nmixed_types.append(3)\nprint(\"mixed_types list: \", mixed_types)\n\n# append string\nmixed_types.append(\"turtle\")\nprint(\"mixed_types list: \", mixed_types)",
      "execution_count": null,
      "outputs": []
    },
    {
      "metadata": {
        "collapsed": true
      },
      "cell_type": "markdown",
      "source": "## Task 1: `.append()`"
    },
    {
      "metadata": {
        "trusted": true
      },
      "cell_type": "code",
      "source": "# Currency Values\n# [ ] create a list of 3 or more currency denomination values, cur_values\n# cur_values, contains values of coins and paper bills (.01, .05, etc.)\ncur_values = [.01,.02,.05,.1,.2,.5,1,2,5,10,20,50]\n# [ ] print the list\nprint(cur_values)\n# [ ] append an item to the list and print the list\ncur_values.append(100)\nprint(cur_values)",
      "execution_count": 2,
      "outputs": [
        {
          "output_type": "stream",
          "text": "[0.01, 0.02, 0.05, 0.1, 0.2, 0.5, 1, 2, 5, 10, 20, 50]\n[0.01, 0.02, 0.05, 0.1, 0.2, 0.5, 1, 2, 5, 10, 20, 50, 100]\n",
          "name": "stdout"
        }
      ]
    },
    {
      "metadata": {
        "trusted": true
      },
      "cell_type": "code",
      "source": "# Currency Names\n# [ ] create a list of 3 or more currency denomination NAMES, cur_names\n# cur_names contains the NAMES of coins and paper bills (penny, etc.)\ncur_names = ['penny','sixpence','shilling']\n# [ ] print the list\nprint(cur_names)\n# [ ] append an item to the list and print the list\ncur_names.append('half_crown')\nprint(cur_names)",
      "execution_count": 5,
      "outputs": [
        {
          "output_type": "stream",
          "text": "['penny', 'sixpence', 'shilling']\n['penny', 'sixpence', 'shilling', 'half_crown']\n",
          "name": "stdout"
        }
      ]
    },
    {
      "metadata": {
        "collapsed": true
      },
      "cell_type": "markdown",
      "source": "## Task 2: Append items to a list with `input()` "
    },
    {
      "metadata": {
        "trusted": true
      },
      "cell_type": "code",
      "source": "# [ ] append additional values to the Currency Names list using input()\ncur_names = ['penny','sixpence','shilling']\ncur_names.append(input(\"Enter the name of a currency denomination:\"))\n# [ ] print the appended list\nprint(cur_names)",
      "execution_count": 9,
      "outputs": [
        {
          "output_type": "stream",
          "name": "stdout",
          "text": "Enter the name of a currency denomination:pound\n['penny', 'sixpence', 'shilling', 'pound']\n"
        }
      ]
    },
    {
      "metadata": {},
      "cell_type": "markdown",
      "source": "## Task 3: `while` loop `.append()`\n- define an empty list: **`bday_survey`**\n- get user input, **`bday`**, asking for the day of the month they were born (1-31) or \"q\" to finish\n- using a **`while`** loop\n  - get user input, **`bday`**, asking for the day of the month they were born (1-31) or \"q\" to finish\n  - append the **`bday`** input to the **`bday_survey`** list\n  - repeat input until a user enters **\"q\"** to quit\n- print bday_survey list"
    },
    {
      "metadata": {
        "trusted": true
      },
      "cell_type": "code",
      "source": "# [ ] complete the Birthday Survey task above\nbday_survey = []\nwhile True:\n    usr_inp = input(\"Enter the day of the month that you was born or q to quit:\")\n    if usr_inp.isnumeric():\n        print(int(usr_inp))\n        if 0 > int(usr_inp):\n            print(\"Number too small it must be between 1 and 31.\")\n        elif 31 < int(usr_inp):\n            print(\"Number too large it must be between 1 and 31.\")\n        else:\n            bday_survey.append(int(usr_inp))\n    elif usr_inp == \"q\":\n        break\n    else:\n        print('Please enter a valid input.')\nprint(bday_survey)",
      "execution_count": 9,
      "outputs": [
        {
          "output_type": "stream",
          "name": "stdout",
          "text": "Enter the day of the month that you was born or q to quit:12\n12\nEnter the day of the month that you was born or q to quit:q\n[12]\n"
        }
      ]
    },
    {
      "metadata": {},
      "cell_type": "markdown",
      "source": "## Task 4: Fix the error\n"
    },
    {
      "metadata": {
        "trusted": true
      },
      "cell_type": "code",
      "source": "# [ ] Fix the Error\nthree_numbers = [1, 1, 2]\nprint(\"an item in the list is: \", three_numbers[2])",
      "execution_count": 7,
      "outputs": [
        {
          "output_type": "error",
          "ename": "IndexError",
          "evalue": "list index out of range",
          "traceback": [
            "\u001b[0;31m---------------------------------------------------------------------------\u001b[0m",
            "\u001b[0;31mIndexError\u001b[0m                                Traceback (most recent call last)",
            "\u001b[0;32m<ipython-input-7-dc02e7fc5864>\u001b[0m in \u001b[0;36m<module>\u001b[0;34m()\u001b[0m\n\u001b[1;32m      1\u001b[0m \u001b[0;31m# [ ] Fix the Error\u001b[0m\u001b[0;34m\u001b[0m\u001b[0;34m\u001b[0m\u001b[0m\n\u001b[1;32m      2\u001b[0m \u001b[0mthree_numbers\u001b[0m \u001b[0;34m=\u001b[0m \u001b[0;34m[\u001b[0m\u001b[0;36m1\u001b[0m\u001b[0;34m,\u001b[0m \u001b[0;36m1\u001b[0m\u001b[0;34m,\u001b[0m \u001b[0;36m2\u001b[0m\u001b[0;34m]\u001b[0m\u001b[0;34m\u001b[0m\u001b[0m\n\u001b[0;32m----> 3\u001b[0;31m \u001b[0mprint\u001b[0m\u001b[0;34m(\u001b[0m\u001b[0;34m\"an item in the list is: \"\u001b[0m\u001b[0;34m,\u001b[0m \u001b[0mthree_numbers\u001b[0m\u001b[0;34m[\u001b[0m\u001b[0;36m3\u001b[0m\u001b[0;34m]\u001b[0m\u001b[0;34m)\u001b[0m\u001b[0;34m\u001b[0m\u001b[0m\n\u001b[0m",
            "\u001b[0;31mIndexError\u001b[0m: list index out of range"
          ]
        }
      ]
    },
    {
      "metadata": {},
      "cell_type": "markdown",
      "source": "[Terms of use](http://go.microsoft.com/fwlink/?LinkID=206977) &nbsp; [Privacy & cookies](https://go.microsoft.com/fwlink/?LinkId=521839) &nbsp; © 2017 Microsoft"
    }
  ],
  "metadata": {
    "anaconda-cloud": {},
    "kernelspec": {
      "name": "python3",
      "display_name": "Python 3",
      "language": "python"
    },
    "language_info": {
      "mimetype": "text/x-python",
      "nbconvert_exporter": "python",
      "name": "python",
      "pygments_lexer": "ipython3",
      "version": "3.5.4",
      "file_extension": ".py",
      "codemirror_mode": {
        "version": 3,
        "name": "ipython"
      }
    }
  },
  "nbformat": 4,
  "nbformat_minor": 1
}